{
 "cells": [
  {
   "cell_type": "markdown",
   "metadata": {},
   "source": [
    "## Rekursionen ##\n",
    "Einige Problemstellungen lassen sich besonders gut durch wiederholte Anwendung derselben Funktion auf das Ergebnis lösen (z.B. einige Sortieralgorithmen, bestimmte Berechnungsverfahren, ...). Dabei enthält die umgesetzte Funktion einen direkten oder indirekten Aufruf auf sich selber. Wir sprechen von **rekursiven Funktionen**."
   ]
  },
  {
   "cell_type": "markdown",
   "metadata": {},
   "source": [
    "**Beispiel**:\n",
    "Berechnung der Fibonacci Folge (siehe http://www.abi-mathe.de/buch/grundlagen/fibonacci-folge/)"
   ]
  },
  {
   "cell_type": "code",
   "execution_count": null,
   "metadata": {},
   "outputs": [],
   "source": [
    "def fibonacci (i):\n",
    "    if i == 0:\n",
    "        return 0\n",
    "    elif i == 1:\n",
    "        return 1\n",
    "    else:\n",
    "        return fibonacci (i-1) + fibonacci (i-2)\n",
    "\n",
    "i = 35\n",
    "print (\"Fibonacci(\" + str(i) + \") : \" + str(fibonacci(i)))"
   ]
  },
  {
   "cell_type": "markdown",
   "metadata": {},
   "source": [
    "**Beispiel**: Quicksort ist ein rekursives Sortierverfahren, in dem zwei Teillisten immer weiter gesplittet und sortiert werden (siehe https://de.wikipedia.org/wiki/Quicksort oder https://www.youtube.com/watch?v=ywWBy6J5gz8)"
   ]
  },
  {
   "cell_type": "code",
   "execution_count": 28,
   "metadata": {},
   "outputs": [
    {
     "name": "stdout",
     "output_type": "stream",
     "text": [
      "[23, 23, 34, 56, 64, 67, 76, 76, 78, 97, 98, 98]\n",
      "['Als', 'Eigenschaft', 'Hierdurch', 'Prinzip', 'Produkt,', 'Regeln', 'Regeln', 'Regelsysteme', 'Rekursion', 'Rekursion', 'Schleifen.', 'Vorgang,', 'abstrakten', 'angewandt', 'auf', 'bezeichnet', 'bzw.', 'das', 'dass', 'den', 'die', 'ein', 'entstehen', 'erzeugt', 'haben,', 'haben,', 'heißen', 'im', 'man', 'neuem', 'potenziell', 'rekursiv,', 'selbst', 'sie', 'sie', 'unendliche', 'von', 'wenn', 'werden.', 'zuzulassen.']\n"
     ]
    }
   ],
   "source": [
    "def quicksort(unsorted):\n",
    "    # bei leeren oder Listen mit einem Element ist Sortieren fertig\n",
    "    if len(unsorted) <= 1:\n",
    "        return unsorted\n",
    "    else:\n",
    "        # erstes Listenelement\n",
    "        value = unsorted[0]\n",
    "        # erstellen einer linken und einer rechten Liste \n",
    "        left = []\n",
    "        right = []\n",
    "        # Vergleich der einzelnen Elemente mit dem ersten Listenelement\n",
    "        for x in unsorted[1:]:\n",
    "            # kleine Zahlen kommen in die linke Liste\n",
    "            if x < value:\n",
    "                left.append(x)\n",
    "            # grosse Zahlen in die rechte Liste\n",
    "            else:\n",
    "                right.append(x)\n",
    "        # Die beiden Teillisten werden einzeln sortiert (Rekursion) und zusammengeführt\n",
    "        return quicksort(left)+[value]+quicksort(right)\n",
    "\n",
    "zahlen = [78,97,56,76,98,64,34,23,67,98,76,23]\n",
    "print (quicksort(zahlen))\n",
    "text = \"Als Rekursion bezeichnet man den abstrakten Vorgang, dass Regeln auf ein Produkt, das sie selbst erzeugt haben, von neuem angewandt werden. Hierdurch entstehen potenziell unendliche Schleifen. Regeln bzw. Regelsysteme heißen rekursiv, wenn sie die Eigenschaft haben, Rekursion im Prinzip zuzulassen.\"\n",
    "print (quicksort(text.split()))"
   ]
  },
  {
   "cell_type": "code",
   "execution_count": null,
   "metadata": {},
   "outputs": [],
   "source": []
  }
 ],
 "metadata": {
  "kernelspec": {
   "display_name": "Python 3",
   "language": "python",
   "name": "python3"
  },
  "language_info": {
   "codemirror_mode": {
    "name": "ipython",
    "version": 3
   },
   "file_extension": ".py",
   "mimetype": "text/x-python",
   "name": "python",
   "nbconvert_exporter": "python",
   "pygments_lexer": "ipython3",
   "version": "3.8.5"
  }
 },
 "nbformat": 4,
 "nbformat_minor": 4
}
