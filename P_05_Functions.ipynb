{
 "cells": [
  {
   "cell_type": "markdown",
   "metadata": {},
   "source": [
    "## Funktionen ##\n",
    "Unser Python Code hat inzwischen eine Länge und Komplexität erreicht, die ein strukturiertes Arbeiten erschweren. Funktionen sind ein wichtiges Werkzeug zur Strukturierung von Code; Funktionen erlauben Wiederverwertung und Erhöhen Lesbarkeit und Qualität des Codes.    \n",
    "In den bisherigen Abschnitten haben wir bereits definierte Funktionen (z.B. len(str), print('blabla'), int(str), ...) kennengelernt.\n",
    "Die Definition erfolgt mit:\n",
    "```\n",
    "def funct_name (param):\n",
    "   code\n",
    "   return val\n",
    "```"
   ]
  },
  {
   "cell_type": "code",
   "execution_count": null,
   "metadata": {},
   "outputs": [],
   "source": [
    "#Hallo Funktion\n",
    "#mit return\n",
    "def hallo_func (name):\n",
    "    return 'Hallo ' + name\n",
    "\n",
    "# Aufruf der Funktion\n",
    "print (hallo_func('Studis'))"
   ]
  },
  {
   "cell_type": "markdown",
   "metadata": {},
   "source": [
    "**Return**   \n",
    "Jede Funktion hat einen Rückgabewert. Dieser kann mit return explizit geliefert werden, ansonsten liefert eine Funktion den 'None' Wert zurück."
   ]
  },
  {
   "cell_type": "code",
   "execution_count": null,
   "metadata": {},
   "outputs": [],
   "source": [
    "#Print Hallo Funktion\n",
    "#ohne return\n",
    "def print_hallo_func (name):\n",
    "    print ('Hallo ' + name)\n",
    "    \n",
    "#Aufruf der Funktion und Druck des Rückgabewertes\n",
    "print(print_hallo_func('Studi'))"
   ]
  },
  {
   "cell_type": "markdown",
   "metadata": {},
   "source": [
    "**Parameter**   \n",
    "Die Übergabe der Parameter ist bei Python recht flexibel. Die Werte können **mit oder ohne Parameternamen** übergeben werden."
   ]
  },
  {
   "cell_type": "code",
   "execution_count": null,
   "metadata": {},
   "outputs": [],
   "source": [
    "#Parameter unbenannt, benannt   \n",
    "print_hallo_func ('Jan')\n",
    "print_hallo_func (name='Kai')"
   ]
  },
  {
   "cell_type": "markdown",
   "metadata": {},
   "source": [
    "Es kann ein **Standardwert** für den Parameterwert definiert werden. Dann kann die Funktion auch ohne den Parameter aufgerufen werden."
   ]
  },
  {
   "cell_type": "code",
   "execution_count": null,
   "metadata": {},
   "outputs": [],
   "source": [
    "#Funktion zur Flächenberechnung\n",
    "def flaeche_func (hoehe=10, breite=10):\n",
    "    return hoehe*breite\n",
    "\n",
    "print (flaeche_func(12,12))\n",
    "print (flaeche_func(hoehe=12,breite=12))\n",
    "print (flaeche_func(breite=12,hoehe=12))\n",
    "print (flaeche_func())\n",
    "print (flaeche_func(breite=12))\n",
    "print (flaeche_func(hoehe=12))\n",
    "print (flaeche_func(13, breite=12))\n",
    "#print (flaeche_func(hoehe=12,13))              #Nach Aufrufen mit Parameternamen keine mehr ohne Namen!"
   ]
  },
  {
   "cell_type": "markdown",
   "metadata": {},
   "source": [
    "Eine Funktion kann sogar eine **variable Anzahl von Parametern besitzen**. In diesem Fall werden (implizit) Tupel übergeben."
   ]
  },
  {
   "cell_type": "code",
   "execution_count": null,
   "metadata": {},
   "outputs": [],
   "source": [
    "#Funktion berechnet Summe\n",
    "def summe_func (*zahl):\n",
    "    # statt der sum function\n",
    "    s = 0\n",
    "    for i in zahl:\n",
    "        s+=i\n",
    "    return s\n",
    "\n",
    "print(summe_func(1,2,3,4,5,8,9))\n",
    "print(summe_func(1))\n",
    "print(summe_func())\n",
    "    "
   ]
  },
  {
   "cell_type": "markdown",
   "metadata": {},
   "source": [
    "Eine Funktion kann auch im Aufruf einen Stern enthalten. Dann erfolgt ein **unpacking** einer Liste bzw. eines Tupels in die Parameterliste"
   ]
  },
  {
   "cell_type": "code",
   "execution_count": null,
   "metadata": {},
   "outputs": [],
   "source": [
    "#Unpacking des Parameter Tupels\n",
    "params = (13,5)\n",
    "summe_func(*params)"
   ]
  },
  {
   "cell_type": "markdown",
   "metadata": {},
   "source": [
    "Besteht das Ergebnis einer Funktion aus mehreren Werten, so müssen die Rückgaben ebenfallst in eine Liste oder ein Tupel gepackt werden (**packing**). "
   ]
  },
  {
   "cell_type": "code",
   "execution_count": null,
   "metadata": {},
   "outputs": [],
   "source": [
    "#Doppelgruss Funktion\n",
    "def doppelgruss(name='Seppl'):\n",
    "    servus = 'Servus ' + name\n",
    "    gruess_di = 'Gruess Di ' + name\n",
    "    return (servus, gruess_di)\n",
    "\n",
    "#Funktion liefert alle Zahlenwerte bis zum entsprechenden Wert (analog range-Funktion)\n",
    "def my_range(max):\n",
    "    val=[]\n",
    "    i=0\n",
    "    while i<max:\n",
    "        val+=[i]\n",
    "        i+=1\n",
    "    return val\n",
    "        \n",
    "print (doppelgruss())\n",
    "print(my_range(10))   "
   ]
  },
  {
   "cell_type": "markdown",
   "metadata": {},
   "source": [
    "**Variablen**   \n",
    "Die Sichtbarkeit von Variablen ist analog wie bei den meisten anderen Sprachen; eine Variable, die innerhalb einer Funktion eingeführt wird ist auch nur innerhalb dieser Funktion sichtbar.   \n",
    "Variablen, die ausserhalb der Funktion defiert wurden sind für die Funktion lesbar. Sollen sie innerhalb der Funktion geändert werden, so müssen sie ausdrücklich als **global** markiert werden."
   ]
  },
  {
   "cell_type": "code",
   "execution_count": null,
   "metadata": {},
   "outputs": [],
   "source": [
    "aussen_01 = 'a_01'\n",
    "\n",
    "def innen ():\n",
    "    innen_01 = 'i_01'\n",
    "    aussen_01 = 'a_mod'\n",
    "    print (f\"In Funktion: Aussen_01: {aussen_01}\")\n",
    "    print (f\"In Funktion: Innen_01: {innen_01}\")\n",
    "\n",
    "    \n",
    "innen()\n",
    "print (f\"Ausserhalb Funktion: Aussen_01: {aussen_01}\")\n",
    "print (f\"Ausserhalb Funktion: Innen_01: {innen_01}\")"
   ]
  },
  {
   "cell_type": "code",
   "execution_count": null,
   "metadata": {},
   "outputs": [],
   "source": []
  }
 ],
 "metadata": {
  "kernelspec": {
   "display_name": "Python 3",
   "language": "python",
   "name": "python3"
  },
  "language_info": {
   "codemirror_mode": {
    "name": "ipython",
    "version": 3
   },
   "file_extension": ".py",
   "mimetype": "text/x-python",
   "name": "python",
   "nbconvert_exporter": "python",
   "pygments_lexer": "ipython3",
   "version": "3.8.5"
  }
 },
 "nbformat": 4,
 "nbformat_minor": 4
}
