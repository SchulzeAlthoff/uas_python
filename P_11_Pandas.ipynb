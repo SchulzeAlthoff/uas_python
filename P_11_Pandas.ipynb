{
 "cells": [
  {
   "cell_type": "markdown",
   "metadata": {},
   "source": [
    "### Pandas ###\n",
    "Ein paar einfache Arbeiten mit Pandas.\n",
    "* Einlesen von Daten\n",
    "* Filtern von Daten\n",
    "* Einfache Berechnung\n",
    "* Darstellung als Graph"
   ]
  },
  {
   "cell_type": "code",
   "execution_count": null,
   "metadata": {},
   "outputs": [],
   "source": [
    "# Importieren\n",
    "import pandas as pd"
   ]
  },
  {
   "cell_type": "code",
   "execution_count": null,
   "metadata": {},
   "outputs": [],
   "source": [
    "# Sehr einfaches Einlesen einer CSV Datei\n",
    "data = pd.read_csv('time_series_covid19_confirmed_global.csv') "
   ]
  },
  {
   "cell_type": "code",
   "execution_count": null,
   "metadata": {},
   "outputs": [],
   "source": [
    "# Das geht alternativ auch über eine URL\n",
    "url=\"https://raw.githubusercontent.com/CSSEGISandData/COVID-19/master/csse_covid_19_data/csse_covid_19_time_series/time_series_covid19_confirmed_global.csv\"\n",
    "data=pd.read_csv(url)"
   ]
  },
  {
   "cell_type": "code",
   "execution_count": null,
   "metadata": {},
   "outputs": [],
   "source": [
    "# Darstellen der Daten\n",
    "# Hinweis: NaN steht für 'Not A Number'\n",
    "print (data)"
   ]
  },
  {
   "cell_type": "code",
   "execution_count": null,
   "metadata": {},
   "outputs": [],
   "source": [
    "# Anzeigen der erten Zeilen\n",
    "print (data.head())"
   ]
  },
  {
   "cell_type": "code",
   "execution_count": null,
   "metadata": {},
   "outputs": [],
   "source": [
    "# Anzeigen der letzten Zeilen\n",
    "print (data.tail)"
   ]
  },
  {
   "cell_type": "code",
   "execution_count": null,
   "metadata": {},
   "outputs": [],
   "source": [
    "# Anzeige der Spaltenköpfe\n",
    "print(data.columns)\n",
    "# Anzeige der Zeilenindizes\n",
    "print(data.index)\n",
    "# Anzeige der Form\n",
    "print (data.shape)"
   ]
  },
  {
   "cell_type": "code",
   "execution_count": null,
   "metadata": {},
   "outputs": [],
   "source": [
    "# Anzeigen einer Zeile nach der Zeilennummer\n",
    "print (data.loc[132])"
   ]
  },
  {
   "cell_type": "code",
   "execution_count": null,
   "metadata": {},
   "outputs": [],
   "source": [
    "# Auswahl von Werten über Vergleichsoperatoren\n",
    "# Hinweis: data['Country/Region']=='Russia' erstellt einen dataframe mit boolschen Werten\n",
    "boolframe = data['Country/Region']=='Russia'\n",
    "print (boolframe.values)\n",
    "# den kann man prima zur Selektion im DataFrame benutzen\n",
    "russia = data.loc[boolframe]\n",
    "print (russia)\n",
    "# ein spezielles Datum aus dieser Auswahl\n",
    "print (russia['12/18/20'])"
   ]
  },
  {
   "cell_type": "markdown",
   "metadata": {},
   "source": [
    "**Einfache Berechnungen**\n",
    "\n",
    "Zeilenweise Berechnung der 7 Tage Inzidenz, der Maximalwerte und des datums des Höchststandes"
   ]
  },
  {
   "cell_type": "code",
   "execution_count": null,
   "metadata": {},
   "outputs": [],
   "source": [
    "# Neue Spalten berechnen\n",
    "data[\"7Tage\"]=data.iloc[:,-1]-data.iloc[:,-7]\n",
    "data[\"max\"] = data.iloc[:,4:].max(axis=1)\n",
    "data[\"maxDate\"] = data.iloc[:,4:].idxmax(axis=1)\n",
    "print(data)"
   ]
  },
  {
   "cell_type": "markdown",
   "metadata": {},
   "source": [
    "**Einfache Verwendung der Plotfunktionen** "
   ]
  },
  {
   "cell_type": "code",
   "execution_count": null,
   "metadata": {},
   "outputs": [],
   "source": [
    "%matplotlib inline\n",
    "russia.iloc[0,4:-3].plot()"
   ]
  }
 ],
 "metadata": {
  "kernelspec": {
   "display_name": "Python 3",
   "language": "python",
   "name": "python3"
  },
  "language_info": {
   "codemirror_mode": {
    "name": "ipython",
    "version": 3
   },
   "file_extension": ".py",
   "mimetype": "text/x-python",
   "name": "python",
   "nbconvert_exporter": "python",
   "pygments_lexer": "ipython3",
   "version": "3.8.5"
  }
 },
 "nbformat": 4,
 "nbformat_minor": 4
}
