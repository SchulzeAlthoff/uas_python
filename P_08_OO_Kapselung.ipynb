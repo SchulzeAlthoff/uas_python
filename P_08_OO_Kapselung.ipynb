{
 "cells": [
  {
   "cell_type": "markdown",
   "metadata": {},
   "source": [
    "## Sichtbarkeit\n",
    "Mit __ könnten Attribute 'private' gesetzt werden. Mit _ werden Attribute 'protected' gesetzt"
   ]
  },
  {
   "cell_type": "code",
   "execution_count": null,
   "metadata": {},
   "outputs": [],
   "source": [
    "class visib:\n",
    "    def __init__(self):\n",
    "        self.__priv = 'private'\n",
    "        self._prot ='protected'\n",
    "        self.publ ='public'\n",
    "\n",
    "my_vis = visib()\n",
    "print (f'Public:    {my_vis.publ}')\n",
    "print (f'Protected: {my_vis._prot}')\n",
    "#print (f'Private:   {my_vis.__priv}')"
   ]
  },
  {
   "cell_type": "markdown",
   "metadata": {},
   "source": [
    "## Kapselung I\n",
    "Zur Kapselung können 'getter' und 'setter' definiert werden. Damit kann der Inhalt des Attributs oder die Rückgabe gezielt gesteuert werden."
   ]
  },
  {
   "cell_type": "code",
   "execution_count": null,
   "metadata": {},
   "outputs": [],
   "source": [
    "class comicfigur:\n",
    "    def __init__ (self, name):\n",
    "        self.set_name(name)\n",
    "    def get_name (self):\n",
    "        return self.__name\n",
    "    def set_name (self, name):\n",
    "        if name == 'zantafio':                #niemand will zantafio sein                    \n",
    "            self.__name = 'fantasio'\n",
    "        else:\n",
    "            self.__name = name\n",
    "\n",
    "fant = comicfigur ('zantafio')\n",
    "pips = comicfigur ('pips')\n",
    "gast = comicfigur ('gaston')\n",
    "\n",
    "print (fant.get_name())\n",
    "#print (pips.name)"
   ]
  },
  {
   "cell_type": "markdown",
   "metadata": {},
   "source": [
    "## Kapselung II \n",
    "Um den Zugriff einfach zu gestalten wird in Python einer 'Property' eingesetzt. Mit Hilfe der Property ist wieder ein 'normaler' Zugriff auf die Attribute er Instanzen möglich (z.B. comicfigur.name = 'zantafio'), es wird aber trotzdem implizit der setter aufgerufen"
   ]
  },
  {
   "cell_type": "code",
   "execution_count": null,
   "metadata": {},
   "outputs": [],
   "source": [
    "class comicfigur:\n",
    "    def __init__ (self, name):                  # Init\n",
    "        self.__set_name(name)\n",
    "    def __get_name (self):                      # Der Getter wird privat gesetzt\n",
    "        return self.__name\n",
    "    def __set_name (self, name):                # Der Setter wird privat gesetzt\n",
    "        if name == 'zantafio':                                   \n",
    "            self.__name = 'fantasio'\n",
    "        else:\n",
    "            self.__name = name\n",
    "    name = property (__get_name, __set_name)    # Die Properties leiten die Änderung und Abfrage (optional auch löschen) an die definierten getter und setter Funktionen weiter \n",
    "\n",
    "fant = comicfigur ('mickey mouse')\n",
    "pips = comicfigur ('pips')\n",
    "gast = comicfigur ('gaston')\n",
    "\n",
    "fant.name = 'fantasio'\n",
    "#print (fant.get_name())\n",
    "print (pips.name)"
   ]
  },
  {
   "cell_type": "markdown",
   "metadata": {},
   "source": [
    "*Es ist ein übliches Python Vorgehen, ein Attribut erst 'public' zu definieren und erst bei dem Wunsch es später zu kapseln und die Property zu definieren. Auf diese Art bleibt die Klassensignatur erhalten.*"
   ]
  },
  {
   "cell_type": "code",
   "execution_count": null,
   "metadata": {},
   "outputs": [],
   "source": []
  }
 ],
 "metadata": {
  "kernelspec": {
   "display_name": "Python 3",
   "language": "python",
   "name": "python3"
  },
  "language_info": {
   "codemirror_mode": {
    "name": "ipython",
    "version": 3
   },
   "file_extension": ".py",
   "mimetype": "text/x-python",
   "name": "python",
   "nbconvert_exporter": "python",
   "pygments_lexer": "ipython3",
   "version": "3.8.5"
  }
 },
 "nbformat": 4,
 "nbformat_minor": 4
}
